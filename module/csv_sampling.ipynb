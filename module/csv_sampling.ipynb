{
 "cells": [
  {
   "cell_type": "code",
   "execution_count": 7,
   "metadata": {},
   "outputs": [],
   "source": [
    "import datetime\n",
    "import glob\n",
    "import numpy as np\n",
    "import pandas as pd\n",
    "import re"
   ]
  },
  {
   "cell_type": "code",
   "execution_count": 8,
   "metadata": {},
   "outputs": [],
   "source": [
    "data_path = '../sample_data'\n",
    "with open(f'{data_path}/dtype/dtype_str.txt') as f:\n",
    "    col = f.read().split('\\n')\n",
    "dtype = dict(zip(col, ['str' for c in col]))\n",
    "customer = pd.read_csv(f'{data_path}/csv/customer.csv', dtype=dtype)\n",
    "category = pd.read_csv(f'{data_path}/csv/category.csv', dtype=dtype)\n",
    "product = pd.read_csv(f'{data_path}/csv/product.csv', dtype=dtype)\n",
    "receipt = pd.read_csv(f'{data_path}/csv/receipt.csv', dtype=dtype)\n",
    "store = pd.read_csv(f'{data_path}/csv/store.csv', dtype=dtype)\n",
    "geocode = pd.read_csv(f'{data_path}/csv/geocode.csv', dtype=dtype)"
   ]
  },
  {
   "cell_type": "code",
   "execution_count": 10,
   "metadata": {},
   "outputs": [],
   "source": [
    "#customerデータからgenderで層化抽出\n",
    "\n",
    "# ライブラリのインポート\n",
    "from sklearn.model_selection import train_test_split\n",
    "\n",
    "# サンプリング\n",
    "_,customer_srs=train_test_split(customer,test_size=0.01,stratify=customer['gender'])\n",
    "customer_srs = customer_srs.reset_index(drop=True)\n",
    "customer_srs.head()\n",
    "customer_srs.to_csv(f'{data_path}/csv/customer_srs.csv', index=False)"
   ]
  },
  {
   "cell_type": "code",
   "execution_count": 11,
   "metadata": {},
   "outputs": [],
   "source": [
    "#receiptデータからstore_cdで層化抽出\n",
    "_,receipt_srs=train_test_split(receipt,test_size=0.01,stratify=receipt['store_cd'])\n",
    "receipt_srs = receipt_srs.reset_index(drop=True)\n",
    "receipt_srs.head()\n",
    "receipt_srs.to_csv(f'{data_path}/csv/receipt_srs.csv', index=False)"
   ]
  },
  {
   "cell_type": "code",
   "execution_count": 12,
   "metadata": {},
   "outputs": [],
   "source": [
    "#geocodeデータからprefectureの北海道、沖縄を削除\n",
    "geocode_dropHO = geocode[geocode['prefecture'] != '北海道']\n",
    "geocode_dropHO = geocode_dropHO[geocode_dropHO['prefecture'] != '沖縄']\n",
    "geocode_dropHO = geocode_dropHO.reset_index(drop=True)\n",
    "geocode_dropHO.head()\n",
    "geocode_dropHO.to_csv(f'{data_path}/csv/geocode_dropHO.csv', index=False)"
   ]
  },
  {
   "cell_type": "code",
   "execution_count": null,
   "metadata": {},
   "outputs": [],
   "source": []
  }
 ],
 "metadata": {
  "kernelspec": {
   "display_name": "Python 3.9.7 ('base')",
   "language": "python",
   "name": "python3"
  },
  "language_info": {
   "codemirror_mode": {
    "name": "ipython",
    "version": 3
   },
   "file_extension": ".py",
   "mimetype": "text/x-python",
   "name": "python",
   "nbconvert_exporter": "python",
   "pygments_lexer": "ipython3",
   "version": "3.9.7"
  },
  "orig_nbformat": 4,
  "vscode": {
   "interpreter": {
    "hash": "8233bac93eac03f430539862c118e46cf648a538abebc1febcda60d424996925"
   }
  }
 },
 "nbformat": 4,
 "nbformat_minor": 2
}
